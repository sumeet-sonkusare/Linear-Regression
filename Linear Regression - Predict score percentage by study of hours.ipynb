{
 "cells": [
  {
   "cell_type": "code",
   "execution_count": 9,
   "id": "pressing-jones",
   "metadata": {},
   "outputs": [],
   "source": [
    "#Importing all libraries required in this notebook\n",
    "# Reading data from csv file\n",
    "\n",
    "import matplotlib.pyplot as plt\n",
    "import numpy as np\n",
    "import pandas as pd\n",
    "score = pd.read_csv(\"student_scores.csv\")"
   ]
  },
  {
   "cell_type": "code",
   "execution_count": 10,
   "id": "alternate-major",
   "metadata": {},
   "outputs": [
    {
     "data": {
      "text/html": [
       "<div>\n",
       "<style scoped>\n",
       "    .dataframe tbody tr th:only-of-type {\n",
       "        vertical-align: middle;\n",
       "    }\n",
       "\n",
       "    .dataframe tbody tr th {\n",
       "        vertical-align: top;\n",
       "    }\n",
       "\n",
       "    .dataframe thead th {\n",
       "        text-align: right;\n",
       "    }\n",
       "</style>\n",
       "<table border=\"1\" class=\"dataframe\">\n",
       "  <thead>\n",
       "    <tr style=\"text-align: right;\">\n",
       "      <th></th>\n",
       "      <th>Hours</th>\n",
       "      <th>Scores</th>\n",
       "    </tr>\n",
       "  </thead>\n",
       "  <tbody>\n",
       "    <tr>\n",
       "      <th>0</th>\n",
       "      <td>2.5</td>\n",
       "      <td>21</td>\n",
       "    </tr>\n",
       "    <tr>\n",
       "      <th>1</th>\n",
       "      <td>5.1</td>\n",
       "      <td>47</td>\n",
       "    </tr>\n",
       "    <tr>\n",
       "      <th>2</th>\n",
       "      <td>3.2</td>\n",
       "      <td>27</td>\n",
       "    </tr>\n",
       "    <tr>\n",
       "      <th>3</th>\n",
       "      <td>8.5</td>\n",
       "      <td>75</td>\n",
       "    </tr>\n",
       "    <tr>\n",
       "      <th>4</th>\n",
       "      <td>3.5</td>\n",
       "      <td>30</td>\n",
       "    </tr>\n",
       "  </tbody>\n",
       "</table>\n",
       "</div>"
      ],
      "text/plain": [
       "   Hours  Scores\n",
       "0    2.5      21\n",
       "1    5.1      47\n",
       "2    3.2      27\n",
       "3    8.5      75\n",
       "4    3.5      30"
      ]
     },
     "execution_count": 10,
     "metadata": {},
     "output_type": "execute_result"
    }
   ],
   "source": [
    "score.head()"
   ]
  },
  {
   "cell_type": "code",
   "execution_count": 11,
   "id": "endangered-hearts",
   "metadata": {},
   "outputs": [
    {
     "data": {
      "text/plain": [
       "(25, 2)"
      ]
     },
     "execution_count": 11,
     "metadata": {},
     "output_type": "execute_result"
    }
   ],
   "source": [
    "# Total number of rows and columns in score dataframe\n",
    "\n",
    "score.shape"
   ]
  },
  {
   "cell_type": "code",
   "execution_count": 21,
   "id": "civilian-arnold",
   "metadata": {},
   "outputs": [],
   "source": [
    "# Creating attrivutes for hours and scores\n",
    "\n",
    "x_value, y_value = score.Hours, score.Scores"
   ]
  },
  {
   "cell_type": "code",
   "execution_count": 13,
   "id": "violent-information",
   "metadata": {},
   "outputs": [
    {
     "data": {
      "image/png": "[encoded data removed]",
      "text/plain": [
       "<Figure size 432x288 with 1 Axes>"
      ]
     },
     "metadata": {
      "needs_background": "light"
     },
     "output_type": "display_data"
    }
   ],
   "source": [
    "# Plotting the distribution of scores\n",
    "\n",
    "plt.scatter(x_value, y_value,color = '#58b970', label = 'scatter plot')  \n",
    "plt.title('Hours vs Score Percentage')  \n",
    "plt.xlabel('Hours Studied')  \n",
    "plt.ylabel('Percentage Score')  \n",
    "plt.show()"
   ]
  },
  {
   "cell_type": "code",
   "execution_count": 14,
   "id": "rough-invite",
   "metadata": {},
   "outputs": [
    {
     "data": {
      "text/plain": [
       "(5.012, 51.48)"
      ]
     },
     "execution_count": 14,
     "metadata": {},
     "output_type": "execute_result"
    }
   ],
   "source": [
    "# Mean value of Score(x_value) and Hours study(y_value)\n",
    "\n",
    "x_mean, y_mean = np.mean(x_value), np.mean(y_value)\n",
    "x_mean,y_mean"
   ]
  },
  {
   "cell_type": "code",
   "execution_count": 15,
   "id": "spread-tyler",
   "metadata": {},
   "outputs": [
    {
     "data": {
      "text/plain": [
       "'slope and intercept of regression line is 9.775803390787475, 2.4836734053731746'"
      ]
     },
     "execution_count": 15,
     "metadata": {},
     "output_type": "execute_result"
    }
   ],
   "source": [
    "# To get the slope and intercept of regression line\n",
    "# line equation : dependent value = slope * independent value + intercept\n",
    "\n",
    "numr = 0\n",
    "deno = 0\n",
    "\n",
    "for i in range(len(x_value)):\n",
    "    numr = numr + (x_value[i]-x_mean)*(y_value[i]-y_mean)\n",
    "    deno = deno + ((x_value[i] - x_mean)**2)\n",
    "\n",
    "slope = numr/deno\n",
    "intercept = y_mean - (slope * x_mean)\n",
    "\n",
    "'slope and intercept of regression line is {}, {}'.format(slope, intercept)"
   ]
  },
  {
   "cell_type": "code",
   "execution_count": 16,
   "id": "desperate-benefit",
   "metadata": {},
   "outputs": [
    {
     "data": {
      "image/png": "[encoded data removed]",
      "text/plain": [
       "<Figure size 432x288 with 1 Axes>"
      ]
     },
     "metadata": {
      "needs_background": "light"
     },
     "output_type": "display_data"
    }
   ],
   "source": [
    "# Plotting of regression line\n",
    "\n",
    "x_max = np.max(x_value)\n",
    "x_min = np.min(x_value)\n",
    "x_max,x_min  #(9.2, 1.1)\n",
    "\n",
    "x_reg = np.linspace(x_min, x_max, 1000000)\n",
    "y_reg = (slope * x_reg) + intercept\n",
    "\n",
    "plt.plot(x_reg, y_reg,color = '#ef5423', label = 'Regression Line')\n",
    "plt.scatter(x_value, y_value,color = '#58b970', label = 'scatter plot')  \n",
    "plt.title('Hours vs Percentage')  \n",
    "plt.xlabel('Hours Studied')  \n",
    "plt.ylabel('Percentage Score')  \n",
    "plt.show()"
   ]
  },
  {
   "cell_type": "code",
   "execution_count": 17,
   "id": "swedish-density",
   "metadata": {},
   "outputs": [
    {
     "data": {
      "text/plain": [
       "0.9529481969048365"
      ]
     },
     "execution_count": 17,
     "metadata": {},
     "output_type": "execute_result"
    }
   ],
   "source": [
    "# To Check fittness of regression line using R-Square method\n",
    "\n",
    "a = 0\n",
    "b = 0\n",
    "\n",
    "for i in range(len(y_value)):\n",
    "    a = a + (((slope * x_value[i]) + intercept) - y_mean)**2\n",
    "    b = b + (y_value[i] - y_mean)**2\n",
    "\n",
    "r_square = a/b\n",
    "r_square"
   ]
  },
  {
   "cell_type": "code",
   "execution_count": 18,
   "id": "dominican-bristol",
   "metadata": {},
   "outputs": [],
   "source": [
    "# Define function to find score by study hours\n",
    "\n",
    "def find_score_by_hours(hours):\n",
    "    value_of_y = round((slope * hours) + intercept, 2)\n",
    "    return value_of_y"
   ]
  },
  {
   "cell_type": "code",
   "execution_count": 19,
   "id": "interested-trash",
   "metadata": {},
   "outputs": [
    {
     "data": {
      "text/plain": [
       "92.91"
      ]
     },
     "execution_count": 19,
     "metadata": {},
     "output_type": "execute_result"
    }
   ],
   "source": [
    "# Prediction of Score by Hours of Study\n",
    "\n",
    "find_score_by_hours(9.25)"
   ]
  }
 ],
 "metadata": {
  "kernelspec": {
   "display_name": "Python 3",
   "language": "python",
   "name": "python3"
  },
  "language_info": {
   "codemirror_mode": {
    "name": "ipython",
    "version": 3
   },
   "file_extension": ".py",
   "mimetype": "text/x-python",
   "name": "python",
   "nbconvert_exporter": "python",
   "pygments_lexer": "ipython3",
   "version": "3.8.5"
  }
 },
 "nbformat": 4,
 "nbformat_minor": 5
}
